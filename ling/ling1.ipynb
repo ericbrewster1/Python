{
 "cells": [
  {
   "cell_type": "markdown",
   "id": "8ad1f929",
   "metadata": {},
   "source": [
    "# Homework 1"
   ]
  },
  {
   "cell_type": "code",
   "execution_count": 1,
   "id": "f83a9b06",
   "metadata": {},
   "outputs": [
    {
     "name": "stdout",
     "output_type": "stream",
     "text": [
      "Does it live in water? no\n",
      "Is it carnivorous? yes\n",
      "Is it on India's national anthem? no\n",
      "It's a tiger!\n"
     ]
    }
   ],
   "source": [
    "choiceWater = input(\"Does it live in water? \")\n",
    "if choiceWater == \"yes\":\n",
    "    choiceMammal = input(\"Is it a mammal? \")\n",
    "    if choiceMammal == \"yes\":\n",
    "        choiceSize = input(\"Is it very large in size? \")\n",
    "        if choiceSize == \"yes\":\n",
    "            print(\"It's a whale!\")\n",
    "        if choiceSize == \"no\":\n",
    "            print(\"It's a seal!\")\n",
    "    elif choiceMammal == \"no\":\n",
    "        choiceEdible = input(\"Is it edible? \")\n",
    "        if choiceEdible == \"yes\":\n",
    "            print(\"It's a fish!\")\n",
    "        elif choiceEdible == \"no\":\n",
    "            print(\"It's a sea snake!\")\n",
    "elif choiceWater == \"no\":\n",
    "    choiceCarnivorous = input(\"Is it carnivorous? \")\n",
    "    if choiceCarnivorous == \"yes\":\n",
    "        choiceIndia = input(\"Is it on India's national anthem? \")\n",
    "        if choiceIndia == \"yes\":\n",
    "            print(\"It's a lion!\")\n",
    "        elif choiceIndia == \"no\":\n",
    "            print(\"It's a tiger!\")\n",
    "    elif choiceCarnivorous == \"no\":\n",
    "        choiceMilk = input(\"Does it give milk? \")\n",
    "        if choiceMilk == \"yes\":\n",
    "            print(\"It's a cow!\")\n",
    "        elif choiceMilk == \"no\":\n",
    "            print(\"It's a bull!\")"
   ]
  },
  {
   "cell_type": "code",
   "execution_count": 2,
   "id": "7e2ecad0",
   "metadata": {},
   "outputs": [
    {
     "name": "stdout",
     "output_type": "stream",
     "text": [
      "Enter input units (km/m/cm/mi/yd/in): in\n",
      "Enter output units (km/m/cm/mi/yd/in): km\n",
      "Enter quantity to convert: 100000\n",
      "100000.0 in equals 2.54 km\n"
     ]
    }
   ],
   "source": [
    "inputUnit = input(\"Enter input units (km/m/cm/mi/yd/in): \")\n",
    "outputUnit = input(\"Enter output units (km/m/cm/mi/yd/in): \")\n",
    "quantity = float(input(\"Enter quantity to convert: \"))\n",
    "quantityOriginal = quantity\n",
    "\n",
    "if inputUnit == \"km\":\n",
    "    quantity *= 1000\n",
    "elif inputUnit == \"cm\":\n",
    "    quantity *= 0.01\n",
    "elif inputUnit == \"mi\":\n",
    "    quantity *= 1609.34\n",
    "elif inputUnit == \"yd\":\n",
    "    quantity *= 0.9144\n",
    "elif inputUnit == \"in\":\n",
    "    quantity *= 0.0254\n",
    "    \n",
    "# converted to meters\n",
    "\n",
    "if outputUnit == \"km\":\n",
    "    quantity /= 1000\n",
    "elif outputUnit == \"cm\":\n",
    "    quantity /= 0.01\n",
    "elif outputUnit == \"mi\":\n",
    "    quantity /= 1609.34\n",
    "elif outputUnit == \"yd\":\n",
    "    quantity /= 0.9144\n",
    "elif outputUnit == \"in\":\n",
    "    quantity /= 0.0254\n",
    "    \n",
    "print(quantityOriginal, inputUnit, \"equals\", quantity, outputUnit)"
   ]
  }
 ],
 "metadata": {
  "kernelspec": {
   "display_name": "Python 3 (ipykernel)",
   "language": "python",
   "name": "python3"
  },
  "language_info": {
   "codemirror_mode": {
    "name": "ipython",
    "version": 3
   },
   "file_extension": ".py",
   "mimetype": "text/x-python",
   "name": "python",
   "nbconvert_exporter": "python",
   "pygments_lexer": "ipython3",
   "version": "3.9.13"
  }
 },
 "nbformat": 4,
 "nbformat_minor": 5
}
