{
 "cells": [
  {
   "cell_type": "code",
   "execution_count": 1,
   "id": "6ee49bf2",
   "metadata": {},
   "outputs": [],
   "source": [
    "def acrostic(inputString):\n",
    "    wordList = inputString.split()\n",
    "    newWord = \"\"\n",
    "    for word in wordList:\n",
    "        newWord += word[0]\n",
    "    print(newWord)"
   ]
  },
  {
   "cell_type": "code",
   "execution_count": 2,
   "id": "0ea74afd",
   "metadata": {},
   "outputs": [
    {
     "name": "stdout",
     "output_type": "stream",
     "text": [
      "Python\n"
     ]
    }
   ],
   "source": [
    "acrostic(\"Panicked, young tough herons only nap.\")"
   ]
  },
  {
   "cell_type": "code",
   "execution_count": 3,
   "id": "8ca3cdc7",
   "metadata": {},
   "outputs": [
    {
     "name": "stdout",
     "output_type": "stream",
     "text": [
      "acrostic\n"
     ]
    }
   ],
   "source": [
    "acrostic(\"a crude rumor or secret tip is concealed\")"
   ]
  },
  {
   "cell_type": "code",
   "execution_count": 4,
   "id": "38f17ee3",
   "metadata": {},
   "outputs": [
    {
     "name": "stdout",
     "output_type": "stream",
     "text": [
      "TbontbtitQ\n"
     ]
    }
   ],
   "source": [
    "acrostic(\"To be or not to be, that is the Question!\")"
   ]
  },
  {
   "cell_type": "code",
   "execution_count": 5,
   "id": "7fa0647f",
   "metadata": {},
   "outputs": [],
   "source": [
    "def acrosticCaps(inputString):\n",
    "    allLetters = \"\".join(inputString.split())\n",
    "    newAcrostic = \"\"\n",
    "    for letter in allLetters:\n",
    "        if letter.isupper():\n",
    "            newAcrostic += letter\n",
    "    print(newAcrostic)"
   ]
  },
  {
   "cell_type": "code",
   "execution_count": 6,
   "id": "3f736d48",
   "metadata": {},
   "outputs": [
    {
     "name": "stdout",
     "output_type": "stream",
     "text": [
      "ACROSTIC\n"
     ]
    }
   ],
   "source": [
    "acrosticCaps(\"A Crude rumoR Or SecreT tIp is conCealed\")"
   ]
  },
  {
   "cell_type": "code",
   "execution_count": 7,
   "id": "77d17d1c",
   "metadata": {},
   "outputs": [
    {
     "name": "stdout",
     "output_type": "stream",
     "text": [
      "PYTHON\n"
     ]
    }
   ],
   "source": [
    "acrosticCaps(\"helPing mY maTes Help Others Now\")"
   ]
  },
  {
   "cell_type": "code",
   "execution_count": 8,
   "id": "29248aa2",
   "metadata": {},
   "outputs": [
    {
     "name": "stdout",
     "output_type": "stream",
     "text": [
      "LINGUISTICS\n"
     ]
    }
   ],
   "source": [
    "acrosticCaps(\"LIfe oNly GUIdeS, TIme moves in ConStants.\")"
   ]
  }
 ],
 "metadata": {
  "kernelspec": {
   "display_name": "Python 3 (ipykernel)",
   "language": "python",
   "name": "python3"
  },
  "language_info": {
   "codemirror_mode": {
    "name": "ipython",
    "version": 3
   },
   "file_extension": ".py",
   "mimetype": "text/x-python",
   "name": "python",
   "nbconvert_exporter": "python",
   "pygments_lexer": "ipython3",
   "version": "3.9.13"
  }
 },
 "nbformat": 4,
 "nbformat_minor": 5
}
