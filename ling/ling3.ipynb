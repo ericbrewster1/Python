{
 "cells": [
  {
   "cell_type": "code",
   "execution_count": 1,
   "id": "bdaf1f08",
   "metadata": {},
   "outputs": [],
   "source": [
    "import random"
   ]
  },
  {
   "cell_type": "code",
   "execution_count": 2,
   "id": "0fef2814",
   "metadata": {},
   "outputs": [],
   "source": [
    "def det():\n",
    "    words = [\"the\", \"a\", \"some\", \"any\", \"every\"]\n",
    "    print(random.choice(words), end = \" \")\n",
    "\n",
    "def adj():\n",
    "    words = [\"green\", \"young\", \"tired\", \"confused\"]\n",
    "    print(random.choice(words), end = \" \")\n",
    "\n",
    "def n():\n",
    "    words = [\"dog\", \"cat\"]\n",
    "    print(random.choice(words), end = \" \")\n",
    "\n",
    "def propN():\n",
    "    words = [\"John\", \"Mary\"]\n",
    "    print(random.choice(words), end = \" \")\n",
    "\n",
    "def vi():\n",
    "    words = [\"sleeps\", \"walks\"]\n",
    "    print(random.choice(words), end = \" \")\n",
    "\n",
    "def vt():\n",
    "    words = [\"loves\", \"hates\"]\n",
    "    print(random.choice(words), end = \" \")\n",
    "\n",
    "def vc():\n",
    "    words = [\"says\", \"thinks\", \"believes\"]\n",
    "    print(random.choice(words), end = \" \")\n",
    "\n",
    "def comp():\n",
    "    words = [\"that\"]\n",
    "    print(random.choice(words), end = \" \")"
   ]
  },
  {
   "cell_type": "code",
   "execution_count": 3,
   "id": "67a3868e",
   "metadata": {},
   "outputs": [],
   "source": [
    "def np():\n",
    "    npOrder = [[det, adj, n], [det, n], [adj, propN], [propN]]\n",
    "    npChoice = random.choice(npOrder)\n",
    "    for terminal in npChoice:\n",
    "        terminal()\n",
    "\n",
    "def vp():\n",
    "    vpOrder = [[vi], [vt, np], [vc, comp, s]]\n",
    "    vpChoice = random.choice(vpOrder)\n",
    "    for terminal in vpChoice:\n",
    "        terminal()\n",
    "\n",
    "def s():\n",
    "    np()\n",
    "    vp()"
   ]
  },
  {
   "cell_type": "code",
   "execution_count": 4,
   "id": "f4313d52",
   "metadata": {},
   "outputs": [
    {
     "name": "stdout",
     "output_type": "stream",
     "text": [
      "every cat walks "
     ]
    }
   ],
   "source": [
    "s()"
   ]
  },
  {
   "cell_type": "code",
   "execution_count": 5,
   "id": "7ddf52e7",
   "metadata": {},
   "outputs": [
    {
     "name": "stdout",
     "output_type": "stream",
     "text": [
      "Mary loves any cat "
     ]
    }
   ],
   "source": [
    "s()"
   ]
  },
  {
   "cell_type": "code",
   "execution_count": 6,
   "id": "f9f57781",
   "metadata": {},
   "outputs": [
    {
     "name": "stdout",
     "output_type": "stream",
     "text": [
      "the confused cat believes that green Mary hates Mary "
     ]
    }
   ],
   "source": [
    "s()"
   ]
  },
  {
   "cell_type": "code",
   "execution_count": 7,
   "id": "98c164a9",
   "metadata": {},
   "outputs": [
    {
     "name": "stdout",
     "output_type": "stream",
     "text": [
      "green John loves the cat "
     ]
    }
   ],
   "source": [
    "s()"
   ]
  },
  {
   "cell_type": "code",
   "execution_count": 8,
   "id": "3a5cefd7",
   "metadata": {},
   "outputs": [
    {
     "name": "stdout",
     "output_type": "stream",
     "text": [
      "some confused cat believes that some dog hates Mary "
     ]
    }
   ],
   "source": [
    "s()"
   ]
  }
 ],
 "metadata": {
  "kernelspec": {
   "display_name": "Python 3 (ipykernel)",
   "language": "python",
   "name": "python3"
  },
  "language_info": {
   "codemirror_mode": {
    "name": "ipython",
    "version": 3
   },
   "file_extension": ".py",
   "mimetype": "text/x-python",
   "name": "python",
   "nbconvert_exporter": "python",
   "pygments_lexer": "ipython3",
   "version": "3.9.13"
  }
 },
 "nbformat": 4,
 "nbformat_minor": 5
}
