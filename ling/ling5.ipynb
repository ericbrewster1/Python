{
 "cells": [
  {
   "cell_type": "code",
   "execution_count": 1,
   "id": "4f4802ed",
   "metadata": {},
   "outputs": [],
   "source": [
    "# Problem 1"
   ]
  },
  {
   "cell_type": "code",
   "execution_count": 2,
   "id": "14560726",
   "metadata": {},
   "outputs": [],
   "source": [
    "import random\n",
    "\n",
    "def scramble(sentence):\n",
    "    words = sentence.split()\n",
    "    scrambledWords = []\n",
    "    \n",
    "    for word in words:\n",
    "        if len(word) <= 3:\n",
    "            scrambledWords.append(word)\n",
    "        else:\n",
    "            first, middle, last = word[0], word[1:-1], word[-1] # split each word into the first/last letter and the middle\n",
    "            middle = list(middle)\n",
    "            random.shuffle(middle) # shuffle the middle characters\n",
    "            scrambledMiddle = ''.join(middle) \n",
    "            scrambledWords.append(first + scrambledMiddle + last) # add the scrambled word to the final list\n",
    "    \n",
    "    return ' '.join(scrambledWords)"
   ]
  },
  {
   "cell_type": "code",
   "execution_count": 3,
   "id": "23e720f8",
   "metadata": {},
   "outputs": [
    {
     "data": {
      "text/plain": [
       "'the quick brwon fox jpuemd over the lzay dog'"
      ]
     },
     "execution_count": 3,
     "metadata": {},
     "output_type": "execute_result"
    }
   ],
   "source": [
    "scramble('the quick brown fox jumped over the lazy dog')"
   ]
  },
  {
   "cell_type": "code",
   "execution_count": 4,
   "id": "778f7091",
   "metadata": {},
   "outputs": [],
   "source": [
    "# Problem 2"
   ]
  },
  {
   "cell_type": "code",
   "execution_count": 5,
   "id": "dd457a81",
   "metadata": {},
   "outputs": [],
   "source": [
    "def isredup(word):\n",
    "    noHyphen = word.replace('-', '') # join parts that were separated by hyphens\n",
    "    \n",
    "    n = len(noHyphen)\n",
    "    if n % 2 != 0: # cannot have a redup of odd letters in this scenario\n",
    "        return False\n",
    "    \n",
    "    firstHalf = noHyphen[:n//2] # first half of the word, take up to half of the word's length\n",
    "    secondHalf = noHyphen[n//2:] \n",
    "    \n",
    "    return firstHalf == secondHalf"
   ]
  },
  {
   "cell_type": "code",
   "execution_count": 6,
   "id": "962c97df",
   "metadata": {},
   "outputs": [
    {
     "data": {
      "text/plain": [
       "True"
      ]
     },
     "execution_count": 6,
     "metadata": {},
     "output_type": "execute_result"
    }
   ],
   "source": [
    "isredup(\"mama\")"
   ]
  },
  {
   "cell_type": "code",
   "execution_count": 7,
   "id": "0369dff5",
   "metadata": {},
   "outputs": [
    {
     "data": {
      "text/plain": [
       "True"
      ]
     },
     "execution_count": 7,
     "metadata": {},
     "output_type": "execute_result"
    }
   ],
   "source": [
    "isredup(\"bye-bye\")"
   ]
  },
  {
   "cell_type": "code",
   "execution_count": 8,
   "id": "37cf231d",
   "metadata": {},
   "outputs": [
    {
     "data": {
      "text/plain": [
       "False"
      ]
     },
     "execution_count": 8,
     "metadata": {},
     "output_type": "execute_result"
    }
   ],
   "source": [
    "isredup(\"randomword\")"
   ]
  },
  {
   "cell_type": "code",
   "execution_count": 9,
   "id": "32c53a2a",
   "metadata": {},
   "outputs": [],
   "source": [
    "# Problem 3"
   ]
  },
  {
   "cell_type": "code",
   "execution_count": 10,
   "id": "1da9e268",
   "metadata": {},
   "outputs": [],
   "source": [
    "def removeVowels(sentence):\n",
    "    vowels = 'aeiouy'\n",
    "    \n",
    "    result = ''.join(char for char in sentence if char.lower() not in vowels) # join together every non-vowel in each word\n",
    "    return result"
   ]
  },
  {
   "cell_type": "code",
   "execution_count": 11,
   "id": "f3fd8644",
   "metadata": {},
   "outputs": [
    {
     "data": {
      "text/plain": [
       "'th qck brwn fx jmpd vr th lz dg'"
      ]
     },
     "execution_count": 11,
     "metadata": {},
     "output_type": "execute_result"
    }
   ],
   "source": [
    "removeVowels(\"the quick brown fox jumped over the lazy dog\")"
   ]
  },
  {
   "cell_type": "code",
   "execution_count": 12,
   "id": "85bc0611",
   "metadata": {},
   "outputs": [],
   "source": [
    "# Problem 4"
   ]
  },
  {
   "cell_type": "code",
   "execution_count": 13,
   "id": "6e6eb434",
   "metadata": {},
   "outputs": [
    {
     "data": {
      "text/plain": [
       "{'Bridgestone/Firestone',\n",
       " 'Macmillan/McGraw',\n",
       " 'Macmillan/McGraw-Hill',\n",
       " 'Minneapolis-based',\n",
       " 'Sacramento-based',\n",
       " 'Test-preparation',\n",
       " 'Washington-based',\n",
       " 'abortion-related',\n",
       " 'achievement-test',\n",
       " 'anti-abortionists',\n",
       " 'asbestos-related',\n",
       " 'automotive-parts',\n",
       " 'battery-operated',\n",
       " 'collective-bargaining',\n",
       " 'computer-generated',\n",
       " 'dollar-denominated',\n",
       " 'electric-utility',\n",
       " 'environmentalists',\n",
       " 'get-out-the-vote',\n",
       " 'industrial-production',\n",
       " 'intellectual-property',\n",
       " 'language-housekeeper',\n",
       " 'multibillion-dollar',\n",
       " 'non-encapsulating',\n",
       " 'over-the-counter',\n",
       " 'pianist-comedian',\n",
       " 'school-improvement',\n",
       " 'school-sponsored',\n",
       " 'search-and-seizure',\n",
       " 'securities-based',\n",
       " 'self-aggrandizing',\n",
       " 'sometimes-tawdry',\n",
       " 'state-supervised',\n",
       " 'stock-manipulation',\n",
       " 'telecommunications',\n",
       " 'test-preparation',\n",
       " 'tissue-transplant'}"
      ]
     },
     "execution_count": 13,
     "metadata": {},
     "output_type": "execute_result"
    }
   ],
   "source": [
    "with open(\"1200wsj.txt\") as file:\n",
    "    text = file.read()\n",
    "    \n",
    "longTokens = {word for word in text.split() if len(word) > 15} # split the text on each word, add to set if longer than 15\n",
    "\n",
    "longTokens"
   ]
  },
  {
   "cell_type": "code",
   "execution_count": 14,
   "id": "ce03fdcf",
   "metadata": {},
   "outputs": [],
   "source": [
    "# Problem 5"
   ]
  },
  {
   "cell_type": "code",
   "execution_count": 15,
   "id": "78595bcc",
   "metadata": {},
   "outputs": [],
   "source": [
    "def averageLength(text):\n",
    "    tokens = text.split()\n",
    "    \n",
    "    totalLength = sum(len(token) for token in tokens) # sum the length of every word/token in the text\n",
    "    \n",
    "    average = totalLength / len(tokens) \n",
    "    \n",
    "    return average"
   ]
  },
  {
   "cell_type": "code",
   "execution_count": 16,
   "id": "bf3a9761",
   "metadata": {},
   "outputs": [
    {
     "data": {
      "text/plain": [
       "3.7"
      ]
     },
     "execution_count": 16,
     "metadata": {},
     "output_type": "execute_result"
    }
   ],
   "source": [
    "averageLength(\"The quick brown fox jumped over the lazy dog .\")"
   ]
  },
  {
   "cell_type": "code",
   "execution_count": 17,
   "id": "82919025",
   "metadata": {},
   "outputs": [
    {
     "data": {
      "text/plain": [
       "4.5167508810666215"
      ]
     },
     "execution_count": 17,
     "metadata": {},
     "output_type": "execute_result"
    }
   ],
   "source": [
    "with open(\"1200wsj.txt\") as file:\n",
    "    text = file.read()\n",
    "    \n",
    "averageLength(text)"
   ]
  },
  {
   "cell_type": "code",
   "execution_count": 18,
   "id": "29ca558c",
   "metadata": {},
   "outputs": [],
   "source": [
    "# Problem 6"
   ]
  },
  {
   "cell_type": "code",
   "execution_count": 19,
   "id": "9e096300",
   "metadata": {},
   "outputs": [],
   "source": [
    "def mostFrequentPair(text):\n",
    "    tokens = text.split()\n",
    "    \n",
    "    adjacents = zip(tokens, tokens[1:]) # zip each pair of adjacent tokens\n",
    "    \n",
    "    adjacentCounts = {}\n",
    "    for adjacent in adjacents: # add to dictionary or increment by 1\n",
    "        if adjacent in adjacentCounts:\n",
    "            adjacentCounts[adjacent] += 1\n",
    "        else:\n",
    "            adjacentCounts[adjacent] = 1\n",
    "            \n",
    "    sortedAdjacents = sorted(adjacentCounts.items(), key=lambda item: item[1], reverse=True) # sort by decreasing value\n",
    "    \n",
    "    return sortedAdjacents[0][0]"
   ]
  },
  {
   "cell_type": "code",
   "execution_count": 20,
   "id": "bfe718ae",
   "metadata": {},
   "outputs": [
    {
     "data": {
      "text/plain": [
       "('it', 'is')"
      ]
     },
     "execution_count": 20,
     "metadata": {},
     "output_type": "execute_result"
    }
   ],
   "source": [
    "mostFrequentPair(\"it is what it is .\")"
   ]
  },
  {
   "cell_type": "code",
   "execution_count": 21,
   "id": "2222be26",
   "metadata": {},
   "outputs": [
    {
     "data": {
      "text/plain": [
       "('.', 'The')"
      ]
     },
     "execution_count": 21,
     "metadata": {},
     "output_type": "execute_result"
    }
   ],
   "source": [
    "with open(\"1200wsj.txt\") as file:\n",
    "    text = file.read()\n",
    "    \n",
    "mostFrequentPair(text)"
   ]
  }
 ],
 "metadata": {
  "kernelspec": {
   "display_name": "Python 3 (ipykernel)",
   "language": "python",
   "name": "python3"
  },
  "language_info": {
   "codemirror_mode": {
    "name": "ipython",
    "version": 3
   },
   "file_extension": ".py",
   "mimetype": "text/x-python",
   "name": "python",
   "nbconvert_exporter": "python",
   "pygments_lexer": "ipython3",
   "version": "3.9.13"
  }
 },
 "nbformat": 4,
 "nbformat_minor": 5
}
